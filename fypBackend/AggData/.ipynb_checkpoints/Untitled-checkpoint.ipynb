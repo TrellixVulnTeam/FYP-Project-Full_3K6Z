{
 "cells": [
  {
   "cell_type": "code",
   "execution_count": 6,
   "metadata": {},
   "outputs": [
    {
     "ename": "SyntaxError",
     "evalue": "(unicode error) 'unicodeescape' codec can't decode bytes in position 2-3: truncated \\UXXXXXXXX escape (<ipython-input-6-c81856222f21>, line 20)",
     "output_type": "error",
     "traceback": [
      "\u001b[1;36m  File \u001b[1;32m\"<ipython-input-6-c81856222f21>\"\u001b[1;36m, line \u001b[1;32m20\u001b[0m\n\u001b[1;33m    f = open('C:\\Users\\eogha\\PycharmProjects\\fypBackend\\AggData\\data{}'.format(filename), 'w+')\u001b[0m\n\u001b[1;37m             ^\u001b[0m\n\u001b[1;31mSyntaxError\u001b[0m\u001b[1;31m:\u001b[0m (unicode error) 'unicodeescape' codec can't decode bytes in position 2-3: truncated \\UXXXXXXXX escape\n"
     ]
    }
   ],
   "source": [
    "import glob\n",
    "import ntpath\n",
    "import json\n",
    "from datetime import datetime\n",
    "import calendar\n",
    "from nltk.sentiment.vader import SentimentIntensityAnalyzer\n",
    "import pandas as pd\n",
    "import pandas_datareader.data as web\n",
    "\n",
    "for filepath in glob.iglob(r'../Twot\\data\\*.json'):\n",
    "    # print(filepath)\n",
    "    f = open('{}'.format(filepath), 'r')\n",
    "    filedata = f.read()\n",
    "    f.close()\n",
    "    # print(filepath)\n",
    "\n",
    "    filename = ntpath.basename(filepath)\n",
    "\n",
    "    newdata = filedata.replace('][', ',')\n",
    "    f = open(r'C:\\Users\\eogha\\PycharmProjects\\fypBackend\\AggData\\data{}'.format(filename), 'w+')\n",
    "    f.write(newdata)\n",
    "    f.close()\n",
    "    del filedata\n",
    "\n",
    "# Files now ready for converting into DataFrames and put into a collection\n",
    "\n",
    "df_collection = {}\n",
    "i = 0\n",
    "\n",
    "for filepath in glob.iglob(r'AggData/data/*.json'):\n",
    "    print(filepath)\n",
    "    with open(filepath) as f:\n",
    "        df_collection[i] = pd.read_json(filepath)\n",
    "    i = i + 1\n",
    "    f.close()"
   ]
  },
  {
   "cell_type": "code",
   "execution_count": 3,
   "metadata": {},
   "outputs": [
    {
     "data": {
      "text/plain": [
       "{}"
      ]
     },
     "execution_count": 3,
     "metadata": {},
     "output_type": "execute_result"
    }
   ],
   "source": [
    "df_collection"
   ]
  },
  {
   "cell_type": "code",
   "execution_count": null,
   "metadata": {},
   "outputs": [],
   "source": []
  }
 ],
 "metadata": {
  "kernelspec": {
   "display_name": "Python 3",
   "language": "python",
   "name": "python3"
  },
  "language_info": {
   "codemirror_mode": {
    "name": "ipython",
    "version": 3
   },
   "file_extension": ".py",
   "mimetype": "text/x-python",
   "name": "python",
   "nbconvert_exporter": "python",
   "pygments_lexer": "ipython3",
   "version": "3.8.3"
  }
 },
 "nbformat": 4,
 "nbformat_minor": 4
}
